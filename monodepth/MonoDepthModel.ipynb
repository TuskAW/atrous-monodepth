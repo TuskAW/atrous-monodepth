{
 "cells": [
  {
   "cell_type": "code",
   "execution_count": 1,
   "metadata": {},
   "outputs": [],
   "source": [
    "import torch\n",
    "import torch.nn.functional as F\n",
    "\n",
    "import numpy as np"
   ]
  },
  {
   "cell_type": "code",
   "execution_count": null,
   "metadata": {},
   "outputs": [],
   "source": []
  },
  {
   "cell_type": "code",
   "execution_count": null,
   "metadata": {},
   "outputs": [],
   "source": [
    "class conv_block(torch.nn.Module):\n",
    "    def __init__(self,D_in,D_out, k):\n",
    "        super(conv_block, self).__init__() \n",
    "        p = np.floor((k - 1) / 2).astype(np.int32)\n",
    "        self.conv_layer = torch.nn.Conv2d(in_channels= D_in, out_channels= D_out, kernel_size = k ,stride = 2, padding = p) \n",
    "        self.conv_layerb = torch.nn.Conv2d(in_channels= D_out, out_channels= D_out, kernel_size = k ,stride = 1, padding = p)\n",
    "        self.normalize = torch.nn.BatchNorm2d(D_out)\n",
    "        \n",
    "    def forward(self, x):\n",
    "        x = F.elu(self.conv_layer(x)) \n",
    "        x = self.normalize(x)\n",
    "        x = F.elu(self.conv_layerb(x))\n",
    "        x = self.normalize(x)\n",
    "        return x \n",
    "\n",
    "class upconv(torch.nn.Module):\n",
    "    def __init__(self,D_in,D_out,k, scale):\n",
    "        super(upconv, self).__init__()\n",
    "        self.scale = scale\n",
    "        p = np.floor((k - 1) / 2).astype(np.int32)\n",
    "        self.conv = torch.nn.Conv2d(in_channels= D_in, out_channels= D_out, kernel_size = k ,stride = 1, padding = p)\n",
    "        \n",
    "    def forward(self,x):\n",
    "        x = torch.nn.functional.interpolate(x, scale_factor=self.scale, mode='bilinear', align_corners=True)\n",
    "        x = self.conv(x)\n",
    "        return torch.nn.functional.elu(x)\n",
    "    \n",
    "class iconv(torch.nn.Module): \n",
    "    def __init__(self, D_in, D_out, k):\n",
    "        super(iconv, self).__init__()\n",
    "        p = np.floor((k - 1) / 2).astype(np.int32)\n",
    "        self.conv = torch.nn.Conv2d(in_channels= D_in, out_channels= D_out, kernel_size = k ,stride = 1, padding = p)\n",
    "    \n",
    "    def forward(self,x):\n",
    "        x = self.conv(x)\n",
    "        return torch.nn.functional.elu(x)    \n",
    "    \n",
    "class disp(torch.nn.Module):\n",
    "    def __init__ (self, D_in, D_out, k, scale):\n",
    "        super(disp, self).__init__()\n",
    "        p = 1 \n",
    "        self.conv =  torch.nn.Conv2d(in_channels= D_in, out_channels= D_out, kernel_size = k ,stride = 1, padding = p)\n",
    "        self.normalize = torch.nn.BatchNorm2d(2)\n",
    "        self.sigmoid = torch.nn.Sigmoid()\n",
    "        \n",
    "    def forward(self, x):\n",
    "        x = self.conv(x)\n",
    "        x = self.normalize(x)\n",
    "        return 0.3 * self.sigmoid(x)"
   ]
  },
  {
   "cell_type": "code",
   "execution_count": null,
   "metadata": {},
   "outputs": [],
   "source": [
    "class MonoDepthModel(torch.nn.Module):\n",
    "    def __init__(self):\n",
    "        super(MonoDepthModel, self).__init__()\n",
    "        \n",
    "        #specifiy NN architecture\n",
    "        \n",
    "        #encoder \n",
    "        self.conv1 = conv_block(D_in=3,D_out=32,k=7)    # h,w /2 \n",
    "        self.conv2 = conv_block(D_in=32,D_out=64,k=5)   # h,w /4 \n",
    "        self.conv3 = conv_block(D_in=64,D_out=128,k=3)  # h,w /8\n",
    "        self.conv4 = conv_block(D_in=128,D_out=256,k=3) # h,w /16\n",
    "        self.conv5 = conv_block(D_in=256,D_out=512,k=3) # h,w /32\n",
    "        self.conv6 = conv_block(D_in=512,D_out=512,k=3) # h,w /64\n",
    "        self.conv7 = conv_block(D_in=512,D_out=512,k=3) # h,w /128 \n",
    "        #Decoder\n",
    "        self.upconv7 = upconv(D_in = 512, D_out = 512, k = 3, scale = 2) #h,w / 64\n",
    "        self.iconv7 = iconv(D_in = 1024, D_out = 512, k = 3)\n",
    "        self.upconv6 = upconv(D_in = 512, D_out = 512, k = 3, scale = 2) #h,w / 32\n",
    "        self.iconv6 = iconv(D_in = 1024, D_out = 512, k = 3)\n",
    "        self.upconv5 = upconv(D_in = 512, D_out = 256, k = 3, scale = 2) #h,w / 16\n",
    "        self.iconv5 = iconv(D_in = 512, D_out = 256, k = 3)\n",
    "        #-------------------------------------------------------------#\n",
    "        self.upconv4 = upconv(D_in = 256, D_out = 128, k = 3, scale = 2) #h,w / 8\n",
    "        self.iconv4 = iconv(D_in = 256, D_out = 128, k = 3) #WRONG IN THE PAPER?\n",
    "        self.disp4 = disp(D_in = 128, D_out = 2, k = 3, scale = 2)\n",
    "        #-------------------------------------------------------------#\n",
    "        self.upconv3 = upconv(D_in = 128, D_out = 64, k = 3, scale = 2) #h,w / 4\n",
    "        self.iconv3 = iconv(D_in = 130, D_out = 64, k = 3)   #64+64+2\n",
    "        self.disp3 = disp(D_in = 64, D_out = 2, k = 3, scale = 2)\n",
    "        #-------------------------------------------------------------#\n",
    "        self.upconv2 = upconv(D_in = 64, D_out = 32, k = 3, scale = 2 ) #h,w / 2\n",
    "        self.iconv2 = iconv(D_in = 66, D_out = 32, k = 3)   #32+32+2\n",
    "        self.disp2 = disp(D_in = 32, D_out = 2, k = 3, scale = 2)\n",
    "        #-------------------------------------------------------------#\n",
    "        self.upconv1 = upconv(D_in = 32, D_out = 16, k = 3, scale = 2) #h,w / 1\n",
    "        self.iconv1 = iconv(D_in = 18, D_out = 16, k = 3)\n",
    "        self.disp1 = disp(D_in = 16, D_out = 2, k = 3, scale = 2)\n",
    "        \n",
    "                \n",
    "    def forward(self,x):\n",
    "        \n",
    "        print('Encoder')\n",
    "        #encoder \n",
    "        x1 = self.conv1(x)  #conv1b\n",
    "        x2 = self.conv2(x1) #conv2b\n",
    "        x3 = self.conv3(x2) #conv3b\n",
    "        x4 = self.conv4(x3) #conv4b\n",
    "        x5 = self.conv5(x4) #conv5b \n",
    "        x6 = self.conv6(x5) #conv6b\n",
    "        x7 = self.conv7(x6) #conv7b\n",
    "        \n",
    "        encoder = [x1,x2,x3,x4,x5,x6,x7]\n",
    "        \n",
    "        for enc in encoder:\n",
    "            print(enc.size())\n",
    "        \n",
    "        \n",
    "        print ('Decoder')\n",
    "        #decoder \n",
    "        upconv7 = self.upconv7(x7)\n",
    "        iconv7 = self.iconv7(torch.cat((upconv7,x6),1))\n",
    "        \n",
    "        upconv6 = self.upconv6(iconv7)\n",
    "        iconv6 = self.iconv6(torch.cat((upconv6,x5),1))\n",
    "        \n",
    "        upconv5 = self.upconv5(iconv6)\n",
    "        iconv5 = self.iconv5(torch.cat((upconv5,x4),1))\n",
    "    \n",
    "        upconv4 = self.upconv4(iconv5)\n",
    "        iconv4 = self.iconv4(torch.cat((upconv4,x3),1))\n",
    "        self.disp4_out = self.disp4(iconv4)\n",
    "        self.udisp4 = torch.nn.functional.interpolate(self.disp4_out,scale_factor = 2, mode = 'bilinear',align_corners=True)\n",
    "        \n",
    "        upconv3 = self.upconv3(iconv4)\n",
    "        iconv3 = self.iconv3(torch.cat((upconv3,x2,self.udisp4),1))\n",
    "        self.disp3_out = self.disp3(iconv3)\n",
    "        self.udisp3 = torch.nn.functional.interpolate(self.disp3_out,scale_factor = 2, mode = 'bilinear',align_corners=True)\n",
    "        \n",
    "        upconv2 = self.upconv2(iconv3)\n",
    "        iconv2 = self.iconv2(torch.cat((upconv2,x1,self.udisp3),1))\n",
    "        self.disp2_out = self.disp2(iconv2)\n",
    "        self.udisp2 = torch.nn.functional.interpolate(self.disp2_out,scale_factor = 2, mode = 'bilinear',align_corners=True)\n",
    "        \n",
    "        upconv1 = self.upconv1(iconv2)\n",
    "        iconv1 = self.iconv1(torch.cat((upconv1,self.udisp2),1))\n",
    "        self.disp1_out = self.disp1(iconv1)\n",
    "        \n",
    "        decoder = [iconv7,iconv6,iconv5,iconv4,iconv3,iconv2,iconv1]\n",
    "        \n",
    "        for dec in decoder:\n",
    "            print(dec.size())\n",
    "         \n",
    "        return self.disp1_out,self.disp2_out,self.disp3_out,self.disp4_out\n",
    "    \n",
    "    "
   ]
  },
  {
   "cell_type": "code",
   "execution_count": 2,
   "metadata": {},
   "outputs": [],
   "source": [
    "from loss import MonodepthLoss\n",
    "from data_loader import prepare_dataloader"
   ]
  },
  {
   "cell_type": "code",
   "execution_count": 3,
   "metadata": {},
   "outputs": [
    {
     "ename": "TypeError",
     "evalue": "__init__() missing 1 required positional argument: 'mode'",
     "output_type": "error",
     "traceback": [
      "\u001b[0;31m---------------------------------------------------------------------------\u001b[0m",
      "\u001b[0;31mTypeError\u001b[0m                                 Traceback (most recent call last)",
      "\u001b[0;32m<ipython-input-3-40d04ad801cc>\u001b[0m in \u001b[0;36m<module>\u001b[0;34m()\u001b[0m\n\u001b[0;32m----> 1\u001b[0;31m \u001b[0mn_img\u001b[0m\u001b[0;34m,\u001b[0m \u001b[0mdata_loader\u001b[0m \u001b[0;34m=\u001b[0m \u001b[0mprepare_dataloader\u001b[0m\u001b[0;34m(\u001b[0m\u001b[0mroot_dir\u001b[0m\u001b[0;34m=\u001b[0m\u001b[0;34m'../../data/kitti/'\u001b[0m\u001b[0;34m,\u001b[0m \u001b[0mfilenames_file\u001b[0m \u001b[0;34m=\u001b[0m \u001b[0;34m'../utils/filenames/kitti_train_files.txt'\u001b[0m \u001b[0;34m,\u001b[0m\u001b[0mmode\u001b[0m\u001b[0;34m=\u001b[0m\u001b[0;34m'train'\u001b[0m\u001b[0;34m,\u001b[0m \u001b[0mbatch_size\u001b[0m\u001b[0;34m=\u001b[0m\u001b[0;36m2\u001b[0m\u001b[0;34m)\u001b[0m\u001b[0;34m\u001b[0m\u001b[0m\n\u001b[0m",
      "\u001b[0;32m/Users/fabiankessler/Documents/01-Projects/Deep Learning in Computer Vision/project-dlcv/monodepth/data_loader.py\u001b[0m in \u001b[0;36mprepare_dataloader\u001b[0;34m(root_dir, filenames_file, mode, augment_parameters, do_augmentation, batch_size, size, num_workers)\u001b[0m\n\u001b[1;32m     89\u001b[0m     datasets = [KittiLoader(os.path.join(root_dir,\n\u001b[1;32m     90\u001b[0m                                          data_dir), mode, transform=data_transform)\n\u001b[0;32m---> 91\u001b[0;31m                 for data_dir in data_dirs]\n\u001b[0m\u001b[1;32m     92\u001b[0m \u001b[0;34m\u001b[0m\u001b[0m\n\u001b[1;32m     93\u001b[0m \u001b[0;34m\u001b[0m\u001b[0m\n",
      "\u001b[0;32m/Users/fabiankessler/Documents/01-Projects/Deep Learning in Computer Vision/project-dlcv/monodepth/data_loader.py\u001b[0m in \u001b[0;36m<listcomp>\u001b[0;34m(.0)\u001b[0m\n\u001b[1;32m     89\u001b[0m     datasets = [KittiLoader(os.path.join(root_dir,\n\u001b[1;32m     90\u001b[0m                                          data_dir), mode, transform=data_transform)\n\u001b[0;32m---> 91\u001b[0;31m                 for data_dir in data_dirs]\n\u001b[0m\u001b[1;32m     92\u001b[0m \u001b[0;34m\u001b[0m\u001b[0m\n\u001b[1;32m     93\u001b[0m \u001b[0;34m\u001b[0m\u001b[0m\n",
      "\u001b[0;31mTypeError\u001b[0m: __init__() missing 1 required positional argument: 'mode'"
     ]
    }
   ],
   "source": [
    "n_img, data_loader = prepare_dataloader(root_dir='../../data/kitti/', filenames_file = '../utils/filenames/kitti_train_files.txt' ,mode='train', batch_size=2)"
   ]
  },
  {
   "cell_type": "code",
   "execution_count": null,
   "metadata": {},
   "outputs": [],
   "source": [
    "model = MonoDepthModel()\n",
    "image = next(iter(data_loader))['left_image'][0]"
   ]
  },
  {
   "cell_type": "code",
   "execution_count": null,
   "metadata": {},
   "outputs": [],
   "source": [
    "d1, d2, d3, d4 = model(image.unsqueeze(0))"
   ]
  },
  {
   "cell_type": "code",
   "execution_count": null,
   "metadata": {},
   "outputs": [],
   "source": [
    "d1"
   ]
  },
  {
   "cell_type": "code",
   "execution_count": null,
   "metadata": {},
   "outputs": [],
   "source": [
    "import matplotlib.pyplot as plt\n",
    "plt.imshow(d1.detach().cpu().numpy()[0, 1])\n",
    "plt.show()"
   ]
  },
  {
   "cell_type": "code",
   "execution_count": null,
   "metadata": {},
   "outputs": [],
   "source": [
    "n_img, data_loader = prepare_dataloader('../../data/kitti/', '../../utils/filenames/' ,mode='train', batch_size=2)"
   ]
  }
 ],
 "metadata": {
  "kernelspec": {
   "display_name": "Python 3",
   "language": "python",
   "name": "python3"
  },
  "language_info": {
   "codemirror_mode": {
    "name": "ipython",
    "version": 3
   },
   "file_extension": ".py",
   "mimetype": "text/x-python",
   "name": "python",
   "nbconvert_exporter": "python",
   "pygments_lexer": "ipython3",
   "version": "3.6.0"
  }
 },
 "nbformat": 4,
 "nbformat_minor": 2
}
