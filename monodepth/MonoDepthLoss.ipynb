{
 "cells": [
  {
   "cell_type": "code",
   "execution_count": 19,
   "metadata": {},
   "outputs": [],
   "source": [
    "import torch\n",
    "import torch.nn as nn\n",
    "import torch.nn.functional as F\n",
    "import numpy as np\n",
    "\n",
    "from data_loader import prepare_dataloader\n"
   ]
  },
  {
   "cell_type": "code",
   "execution_count": 23,
   "metadata": {},
   "outputs": [
    {
     "name": "stdout",
     "output_type": "stream",
     "text": [
      "Use a dataset with 108 images\n"
     ]
    }
   ],
   "source": [
    "n_img, data_loader = prepare_dataloader('../data/kitti', mode='train', batch_size=2)"
   ]
  },
  {
   "cell_type": "code",
   "execution_count": 29,
   "metadata": {},
   "outputs": [],
   "source": [
    "class MonodepthLoss(nn.Module):\n",
    "    \n",
    "    def __init__(self, n_scales=4, ssim_w=0.85, disp_grad_w=1.0, lr_w=1.0):\n",
    "        super(MonodepthLoss, self).__init__()\n",
    "        \n",
    "        self.n_scales = n_scales\n",
    "        self.ssim_w = ssim_w\n",
    "        self.disp_grad_w = disp_grad_w\n",
    "        self.lr_w = lr_w\n",
    "        \n",
    "    def scale_pyramid(self, img):\n",
    "        scaled_imgs = [img]\n",
    "        s = img.size()\n",
    "        h = s[2]\n",
    "        w = s[3]\n",
    "        for i in range(self.n_scales - 1):\n",
    "            ratio = 2 ** (i + 1)\n",
    "            nh = h // ratio\n",
    "            nw = w // ratio\n",
    "            scaled_imgs.append(nn.functional.interpolate(img,\n",
    "                               size=[nh, nw], mode='bilinear',\n",
    "                               align_corners=True))\n",
    "        return scaled_imgs\n",
    "        \n",
    "    def forward(self, disparities, images):\n",
    "        \"\"\" Compute the loss function according to eqn (1)\n",
    "        \n",
    "        Parameters\n",
    "        ----------\n",
    "        disparities : tuple of n_scales tensors, each of size [batch_size, 2, img_x, img_y]\n",
    "\n",
    "            output disparities at n_scales different scales of decreasing size\n",
    "\n",
    "        images : tuple of 2 tensors, each of size [batch_size, 3 (rgb), img_y, img_y]\n",
    "            left and right image\n",
    "            \n",
    "        Returns\n",
    "        -------\n",
    "        loss : float\n",
    "            total loss at all scales\n",
    "        \n",
    "        \"\"\"\n",
    "        \n",
    "        # input images\n",
    "        left, right = images\n",
    "        left_pyramid = self.scale_pyramid(left)\n",
    "        right_pyramid = self.scale_pyramid(right)\n",
    "        \n",
    "        # get left and right disparities\n",
    "        disp_left_est = [d[:, 0, :, :].unsqueeze(1) for d in disparities]\n",
    "        disp_right_est = [d[:, 1, :, :].unsqueeze(1) for d in disparities]\n",
    "        "
   ]
  },
  {
   "cell_type": "code",
   "execution_count": 27,
   "metadata": {},
   "outputs": [
    {
     "name": "stdout",
     "output_type": "stream",
     "text": [
      "torch.Size([2, 3, 256, 512])\n"
     ]
    }
   ],
   "source": [
    "data = next(iter(data_loader))\n",
    "images = data['left_image'], data['right_image']\n",
    "print(images[0].size())\n",
    "\n",
    "disparities = [torch.from_numpy(np.load('../data/output/d{}.npy'.format(i))) for i in range(4)]"
   ]
  },
  {
   "cell_type": "code",
   "execution_count": 31,
   "metadata": {},
   "outputs": [
    {
     "name": "stdout",
     "output_type": "stream",
     "text": [
      "torch.Size([2, 3, 256, 512])\n"
     ]
    }
   ],
   "source": [
    "loss = MonodepthLoss()\n",
    "\n",
    "loss(disparities, images)"
   ]
  },
  {
   "cell_type": "code",
   "execution_count": null,
   "metadata": {},
   "outputs": [],
   "source": []
  }
 ],
 "metadata": {
  "kernelspec": {
   "display_name": "Python (Deep Learning)",
   "language": "python",
   "name": "deep"
  },
  "language_info": {
   "codemirror_mode": {
    "name": "ipython",
    "version": 3
   },
   "file_extension": ".py",
   "mimetype": "text/x-python",
   "name": "python",
   "nbconvert_exporter": "python",
   "pygments_lexer": "ipython3",
   "version": "3.6.7"
  }
 },
 "nbformat": 4,
 "nbformat_minor": 2
}
