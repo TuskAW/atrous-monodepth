{
 "cells": [
  {
   "cell_type": "markdown",
   "metadata": {},
   "source": [
    "# Evaluation procedure for SYNTHIA"
   ]
  },
  {
   "cell_type": "code",
   "execution_count": 12,
   "metadata": {},
   "outputs": [],
   "source": [
    "import numpy as np\n",
    "import cv2\n",
    "import os\n",
    "\n",
    "\n",
    "focal = 532.7403520000000\n",
    "\n",
    "principal_point_x = 640\n",
    "\n",
    "principal_point_y = 380\n",
    "\n",
    "baseline = 0.8\n",
    "\n",
    "width, height = 1280, 760"
   ]
  },
  {
   "cell_type": "markdown",
   "metadata": {},
   "source": [
    "## Load predicted disparities"
   ]
  },
  {
   "cell_type": "code",
   "execution_count": 2,
   "metadata": {},
   "outputs": [],
   "source": [
    "predicted_disps = np.load(\"../data/output/run_19-03-02_13h:39m_resnet50_md_synthia/test/disparities.npy\")"
   ]
  },
  {
   "cell_type": "code",
   "execution_count": 3,
   "metadata": {},
   "outputs": [],
   "source": [
    "predicted_disps = predicted_disps[:295]"
   ]
  },
  {
   "cell_type": "code",
   "execution_count": 4,
   "metadata": {},
   "outputs": [
    {
     "data": {
      "text/plain": [
       "(295, 256, 512)"
      ]
     },
     "execution_count": 4,
     "metadata": {},
     "output_type": "execute_result"
    }
   ],
   "source": [
    "predicted_disps.shape"
   ]
  },
  {
   "cell_type": "markdown",
   "metadata": {},
   "source": [
    "## Setup file paths"
   ]
  },
  {
   "cell_type": "code",
   "execution_count": 5,
   "metadata": {},
   "outputs": [
    {
     "data": {
      "text/plain": [
       "295"
      ]
     },
     "execution_count": 5,
     "metadata": {},
     "output_type": "execute_result"
    }
   ],
   "source": [
    "filenames_file = \"../resources/filenames/synthia_spring_05.txt\"\n",
    "root_dir = \"../data/synthia\"\n",
    "\n",
    "with open(filenames_file) as filenames:\n",
    "    left_image_paths = sorted(\n",
    "        os.path.join(root_dir, fname.split()[0]) for fname in filenames\n",
    "    )\n",
    "\n",
    "left_depth_paths = [\"/\".join([path if path != \"RGB\" else \"Depth\" for path in str.split(image_path, \"/\")]) for image_path in left_image_paths]\n",
    "\n",
    "len(left_depth_paths)"
   ]
  },
  {
   "cell_type": "markdown",
   "metadata": {},
   "source": [
    "## Load ground truth depth"
   ]
  },
  {
   "cell_type": "code",
   "execution_count": 39,
   "metadata": {},
   "outputs": [],
   "source": [
    "img = cv2.imread(left_depth_paths[100], cv2.IMREAD_UNCHANGED).astype(np.float32)"
   ]
  },
  {
   "cell_type": "code",
   "execution_count": 40,
   "metadata": {},
   "outputs": [
    {
     "data": {
      "image/png": "[encoded data removed]",
      "text/plain": [
       "<Figure size 432x288 with 1 Axes>"
      ]
     },
     "metadata": {
      "needs_background": "light"
     },
     "output_type": "display_data"
    }
   ],
   "source": [
    "import matplotlib.pyplot as plt\n",
    "plt.imshow(img / img.max(), cmap=\"gray\")\n",
    "plt.show()"
   ]
  },
  {
   "cell_type": "code",
   "execution_count": 41,
   "metadata": {},
   "outputs": [
    {
     "data": {
      "text/plain": [
       "array([[2182., 2185., 2184., ..., 1932., 1932., 1933.],\n",
       "       [2182., 2185., 2189., ..., 1932., 1933., 1933.],\n",
       "       [2182., 2185., 2189., ..., 1933., 1933., 1933.],\n",
       "       ...,\n",
       "       [ 192.,  192.,  192., ...,  232.,  232.,  232.],\n",
       "       [ 191.,  191.,  191., ...,  232.,  232.,  232.],\n",
       "       [ 191.,  191.,  191., ...,  231.,  231.,  231.]], dtype=float32)"
      ]
     },
     "execution_count": 41,
     "metadata": {},
     "output_type": "execute_result"
    }
   ],
   "source": [
    "img[:,:,2]"
   ]
  },
  {
   "cell_type": "code",
   "execution_count": 34,
   "metadata": {},
   "outputs": [
    {
     "data": {
      "text/plain": [
       "array([[ 3.1005933,  3.3288145,  4.7178574, ...,  9.658443 ,  9.873075 ,\n",
       "         9.928231 ],\n",
       "       [ 3.113033 ,  3.3422143,  4.7372346, ...,  9.66631  ,  9.886889 ,\n",
       "         9.943615 ],\n",
       "       [ 4.1885076,  4.502068 ,  6.426466 , ..., 10.197915 , 10.859295 ,\n",
       "        11.038264 ],\n",
       "       ...,\n",
       "       [12.230695 , 12.725843 , 15.184819 , ...,  3.721062 ,  3.3902466,\n",
       "         3.3165338],\n",
       "       [ 8.842777 ,  9.187265 , 10.883165 , ...,  3.1202474,  2.8468986,\n",
       "         2.7858841],\n",
       "       [ 8.804669 ,  9.147522 , 10.835204 , ...,  3.112395 ,  2.8397872,\n",
       "         2.7789369]], dtype=float32)"
      ]
     },
     "execution_count": 34,
     "metadata": {},
     "output_type": "execute_result"
    }
   ],
   "source": []
  },
  {
   "cell_type": "markdown",
   "metadata": {},
   "source": [
    "## Convert predicted disparity to depth"
   ]
  },
  {
   "cell_type": "code",
   "execution_count": 10,
   "metadata": {},
   "outputs": [
    {
     "data": {
      "text/plain": [
       "(760, 1280, 3)"
      ]
     },
     "execution_count": 10,
     "metadata": {},
     "output_type": "execute_result"
    }
   ],
   "source": [
    "pred_disp = predicted_disps[10]\n",
    "pred_disp = width * cv2.resize(\n",
    "    pred_disp, (width, height), interpolation=cv2.INTER_LINEAR\n",
    ")\n",
    "\n",
    "pred_depth = baseline * focal / pred_disp\n",
    "pred_depth"
   ]
  }
 ],
 "metadata": {
  "kernelspec": {
   "display_name": "Python 3",
   "language": "python",
   "name": "python3"
  },
  "language_info": {
   "codemirror_mode": {
    "name": "ipython",
    "version": 3
   },
   "file_extension": ".py",
   "mimetype": "text/x-python",
   "name": "python",
   "nbconvert_exporter": "python",
   "pygments_lexer": "ipython3",
   "version": "3.7.2"
  }
 },
 "nbformat": 4,
 "nbformat_minor": 2
}
